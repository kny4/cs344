{
 "cells": [
  {
   "cell_type": "markdown",
   "id": "5a5349b1",
   "metadata": {},
   "source": [
    "# Building a Song Recommender  \n",
    "by Braden Weber (blw22) and Kelsey Yen (kny4)"
   ]
  },
  {
   "cell_type": "markdown",
   "id": "f94f5e68",
   "metadata": {},
   "source": [
    "## Goal  "
   ]
  },
  {
   "cell_type": "markdown",
   "id": "030c7875",
   "metadata": {},
   "source": [
    "The goal of our project is to create a song recommender using the Spotify Million Playlist Dataset."
   ]
  },
  {
   "cell_type": "markdown",
   "id": "1a5c33a4",
   "metadata": {},
   "source": [
    "## Dataset  "
   ]
  },
  {
   "cell_type": "markdown",
   "id": "c2f16a3a",
   "metadata": {},
   "source": [
    "The dataset we used is from the [Spotify Million Playlist Dataset Challenge](https://research.atspotify.com/the-million-playlist-dataset-remastered/). The data comes from sampling random existing Spotify playlists made by real users for Spotify's AI research (much of which focuses on recommendation systems).  \n",
    "Each playlist is a dictionary that includes data. The data we used was from the field \"tracks\" which includes the following data:\n",
    "* **track_name** - the name of the track\n",
    "* **track_uri** - the Spotify URI of the track\n",
    "* **album_name** - the name of the track's album\n",
    "* **album_uri** - the Spotify URI of the album\n",
    "* **artist_name** - the name of the track's primary artist\n",
    "* **artist_uri** - the Spotify URI of track's primary artist\n",
    "* **duration_ms** - the duration of the track in milliseconds\n",
    "* **pos** - the position of the track in the playlist (zero-based)  \n",
    "\n",
    "Unlike other datasets we explored, the dataset does not include song attributes that can be compared to one another, things like tempo, genre, or danceability (although attributes are available using Spotify Web API). "
   ]
  },
  {
   "cell_type": "markdown",
   "id": "23fe4211",
   "metadata": {},
   "source": [
    "After unzipping the dataset, the data is handled using a `for loop` :"
   ]
  },
  {
   "cell_type": "code",
   "execution_count": null,
   "id": "4c330b9e",
   "metadata": {},
   "outputs": [],
   "source": [
    "# for loop code"
   ]
  },
  {
   "cell_type": "markdown",
   "id": "389d4478",
   "metadata": {},
   "source": [
    "## Model Setup"
   ]
  },
  {
   "cell_type": "markdown",
   "id": "7a5d7e45",
   "metadata": {},
   "source": [
    "Following sequence modelling done in homework 12  \n",
    "We're yanking out the last two songs in our dataset of 22 songs for the training set\n",
    "to make song embeddings: give each song a unique id,"
   ]
  },
  {
   "cell_type": "code",
   "execution_count": null,
   "id": "e2c985b3",
   "metadata": {},
   "outputs": [],
   "source": [
    "# code for yanking"
   ]
  },
  {
   "cell_type": "markdown",
   "id": "c638769f",
   "metadata": {},
   "source": [
    "The embeddings of each song is constructed from the song and artist names."
   ]
  },
  {
   "cell_type": "code",
   "execution_count": null,
   "id": "7bec49de",
   "metadata": {},
   "outputs": [],
   "source": [
    "# code for embedding"
   ]
  },
  {
   "cell_type": "markdown",
   "id": "bab96330",
   "metadata": {},
   "source": [
    "Can't make model without gradient:"
   ]
  },
  {
   "cell_type": "code",
   "execution_count": 1,
   "id": "a9adea57",
   "metadata": {},
   "outputs": [],
   "source": [
    "# code for gradient"
   ]
  },
  {
   "cell_type": "markdown",
   "id": "416677e8",
   "metadata": {},
   "source": [
    "Output of model:"
   ]
  },
  {
   "cell_type": "code",
   "execution_count": 2,
   "id": "992e3c5a",
   "metadata": {},
   "outputs": [],
   "source": [
    "# output of model"
   ]
  },
  {
   "cell_type": "markdown",
   "id": "51a5bc6f",
   "metadata": {},
   "source": [
    "## Validation Method"
   ]
  },
  {
   "cell_type": "markdown",
   "id": "0008ab88",
   "metadata": {},
   "source": [
    "## Baseline Results"
   ]
  },
  {
   "cell_type": "markdown",
   "id": "9e1530fe",
   "metadata": {},
   "source": [
    "## Improvements"
   ]
  },
  {
   "cell_type": "markdown",
   "id": "879f7ea3",
   "metadata": {},
   "source": [
    "## Error Analysis"
   ]
  },
  {
   "cell_type": "markdown",
   "id": "5dbb2797",
   "metadata": {},
   "source": [
    "## Alternative Methods"
   ]
  },
  {
   "cell_type": "markdown",
   "id": "8b72be1c",
   "metadata": {},
   "source": [
    "## Summary"
   ]
  },
  {
   "cell_type": "markdown",
   "id": "5660c04c",
   "metadata": {},
   "source": [
    "## Future Work"
   ]
  }
 ],
 "metadata": {
  "kernelspec": {
   "display_name": "Python 3 (ipykernel)",
   "language": "python",
   "name": "python3"
  },
  "language_info": {
   "codemirror_mode": {
    "name": "ipython",
    "version": 3
   },
   "file_extension": ".py",
   "mimetype": "text/x-python",
   "name": "python",
   "nbconvert_exporter": "python",
   "pygments_lexer": "ipython3",
   "version": "3.9.7"
  }
 },
 "nbformat": 4,
 "nbformat_minor": 5
}
