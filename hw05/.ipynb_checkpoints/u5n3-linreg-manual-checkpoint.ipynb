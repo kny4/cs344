{
 "cells": [
  {
   "cell_type": "markdown",
   "metadata": {},
   "source": [
    "# Linear Regression the PyTorch Way\n",
    "\n",
    "Task: fit a linear regression using gradient descent, with gradients computed by backpropagation using PyTorch"
   ]
  },
  {
   "cell_type": "markdown",
   "metadata": {},
   "source": [
    "## Setup"
   ]
  },
  {
   "cell_type": "code",
   "execution_count": 2,
   "metadata": {},
   "outputs": [],
   "source": [
    "import torch\n",
    "from torch import tensor\n",
    "import ipywidgets as widgets\n",
    "import matplotlib.pyplot as plt\n",
    "%matplotlib inline"
   ]
  },
  {
   "cell_type": "markdown",
   "metadata": {},
   "source": [
    "## Task"
   ]
  },
  {
   "cell_type": "markdown",
   "metadata": {},
   "source": [
    "Suppose we have a dataset with just a single feature `x` and continuous outcome variable `y`."
   ]
  },
  {
   "cell_type": "code",
   "execution_count": 3,
   "metadata": {},
   "outputs": [
    {
     "data": {
      "text/html": [
       "<div>\n",
       "<style scoped>\n",
       "    .dataframe tbody tr th:only-of-type {\n",
       "        vertical-align: middle;\n",
       "    }\n",
       "\n",
       "    .dataframe tbody tr th {\n",
       "        vertical-align: top;\n",
       "    }\n",
       "\n",
       "    .dataframe thead th {\n",
       "        text-align: right;\n",
       "    }\n",
       "</style>\n",
       "<table border=\"1\" class=\"dataframe\">\n",
       "  <thead>\n",
       "    <tr style=\"text-align: right;\">\n",
       "      <th></th>\n",
       "      <th>Year</th>\n",
       "      <th>No_Smoothing</th>\n",
       "      <th>Lowess(5)</th>\n",
       "    </tr>\n",
       "  </thead>\n",
       "  <tbody>\n",
       "    <tr>\n",
       "      <th>0</th>\n",
       "      <td>1880</td>\n",
       "      <td>-0.16</td>\n",
       "      <td>-0.09</td>\n",
       "    </tr>\n",
       "    <tr>\n",
       "      <th>1</th>\n",
       "      <td>1881</td>\n",
       "      <td>-0.08</td>\n",
       "      <td>-0.13</td>\n",
       "    </tr>\n",
       "    <tr>\n",
       "      <th>2</th>\n",
       "      <td>1882</td>\n",
       "      <td>-0.11</td>\n",
       "      <td>-0.16</td>\n",
       "    </tr>\n",
       "    <tr>\n",
       "      <th>3</th>\n",
       "      <td>1883</td>\n",
       "      <td>-0.17</td>\n",
       "      <td>-0.20</td>\n",
       "    </tr>\n",
       "    <tr>\n",
       "      <th>4</th>\n",
       "      <td>1884</td>\n",
       "      <td>-0.28</td>\n",
       "      <td>-0.24</td>\n",
       "    </tr>\n",
       "  </tbody>\n",
       "</table>\n",
       "</div>"
      ],
      "text/plain": [
       "   Year  No_Smoothing  Lowess(5)\n",
       "0  1880         -0.16      -0.09\n",
       "1  1881         -0.08      -0.13\n",
       "2  1882         -0.11      -0.16\n",
       "3  1883         -0.17      -0.20\n",
       "4  1884         -0.28      -0.24"
      ]
     },
     "execution_count": 3,
     "metadata": {},
     "output_type": "execute_result"
    }
   ],
   "source": [
    "import pandas as pd\n",
    "data = pd.read_csv(\"https://data.giss.nasa.gov/gistemp/graphs_v4/graph_data/Global_Mean_Estimates_based_on_Land_and_Ocean_Data/graph.csv\", skiprows=1)\n",
    "data.head()"
   ]
  },
  {
   "cell_type": "code",
   "execution_count": 4,
   "metadata": {},
   "outputs": [
    {
     "data": {
      "text/plain": [
       "[<matplotlib.lines.Line2D at 0x7efbbf6510a0>]"
      ]
     },
     "execution_count": 4,
     "metadata": {},
     "output_type": "execute_result"
    },
    {
     "data": {
      "image/png": "[encoded data removed]",
      "text/plain": [
       "<Figure size 432x288 with 1 Axes>"
      ]
     },
     "metadata": {
      "needs_background": "light"
     },
     "output_type": "display_data"
    }
   ],
   "source": [
    "x = torch.tensor(data.iloc[:, 0], dtype=torch.float)\n",
    "# scale x to a reasonable range\n",
    "x -= 1880.0\n",
    "x /= 100.\n",
    "y_true = torch.tensor(data.iloc[:, 1])\n",
    "plt.plot(x, y_true)"
   ]
  },
  {
   "cell_type": "markdown",
   "metadata": {},
   "source": [
    "Create some features that we'll need later; don't worry about this code right now."
   ]
  },
  {
   "cell_type": "code",
   "execution_count": 5,
   "metadata": {},
   "outputs": [],
   "source": [
    "feats = torch.stack([x, x - 0.5], axis=1).clamp_min(0.0)\n",
    "f1, f2 = feats.T"
   ]
  },
  {
   "cell_type": "markdown",
   "metadata": {},
   "source": [
    "This Fundamentals notebook will be a bit different from usual: you'll be editing a *single* block of code. So the final notebook won't show your intermediate steps. That doesn't mean they aren't important; make sure you successfully complete each step before moving on to the next one."
   ]
  },
  {
   "cell_type": "markdown",
   "metadata": {},
   "source": [
    "Here is a basic outline for fitting a model using PyTorch. We'll be filling in the blanks here later."
   ]
  },
  {
   "cell_type": "code",
   "execution_count": 11,
   "metadata": {},
   "outputs": [
    {
     "name": "stdout",
     "output_type": "stream",
     "text": [
      "Final Loss: 0.019\n"
     ]
    },
    {
     "data": {
      "image/png": "[encoded data removed]",
      "text/plain": [
       "<Figure size 720x288 with 2 Axes>"
      ]
     },
     "metadata": {
      "needs_background": "light"
     },
     "output_type": "display_data"
    }
   ],
   "source": [
    "# Set hyperparameters\n",
    "fit_bias = False\n",
    "use_mae = False\n",
    "learning_rate = 0.1\n",
    "num_iter = 50\n",
    "\n",
    "# Initialize parameters\n",
    "#weights = torch.tensor([0.0], requires_grad=True)\n",
    "w1 = torch.tensor([1.5], requires_grad=True)\n",
    "w2 = torch.tensor([2.0], requires_grad=True)\n",
    "bias = torch.tensor([2.0], requires_grad=True)\n",
    "\n",
    "# Keep a log of loss values\n",
    "errors = []\n",
    "\n",
    "# Repeat for each iteration\n",
    "for i in range(num_iter):\n",
    "    # Forward pass: compute loss\n",
    "    y_pred = y_pred = w1 * f1 + w2 * f2 + bias\n",
    "    resid = y_true - y_pred\n",
    "    loss = (resid**2).mean()\n",
    "    #loss = resid.abs().mean()\n",
    "    errors.append(loss.item())\n",
    "\n",
    "    # Backward pass: compute gradients\n",
    "    loss.backward()\n",
    "    \n",
    "    # Descend the gradient.\n",
    "    w1.data -= learning_rate * w1.grad\n",
    "    w2.data -= learning_rate * w2.grad\n",
    "    bias.data -= learning_rate * bias.grad\n",
    "    \n",
    "    # Clear out the gradient data so it doesn't corrupt the next iteration.\n",
    "    w1.grad.zero_()\n",
    "    w2.grad.zero_()\n",
    "    bias.grad.zero_()\n",
    "\n",
    "# Plot the results\n",
    "fig, axs = plt.subplots(ncols=2, figsize=(10, 4))\n",
    "axs[0].plot(errors)\n",
    "axs[0].set(title=\"Loss\", xlabel=\"iteration\", ylabel=\"Loss\")\n",
    "axs[1].scatter(x, y_true)\n",
    "axs[1].plot(x, y_pred.detach(), 'r');\n",
    "axs[1].set(title=\"Fitted model\", xlabel='x', ylabel='y')\n",
    "print(f\"Final Loss: {errors[-1]:.3f}\")"
   ]
  },
  {
   "cell_type": "markdown",
   "metadata": {},
   "source": [
    "### Step 1: Slope Only, MSE\n",
    "\n",
    "Fill in the blanks in the code above so that it fits the model `y_pred = weights * x` to the data `x` and `y_true` in a way that minimizes the mean squared error (MSE).\n",
    "\n",
    "Note that there is no intercept, so y_pred is 0.0 when x is 0.0.\n",
    "\n",
    "Terminology:\n",
    "\n",
    "- *weights*: the slope of the line\n",
    "- *loss*: the mean squared error.\n",
    "\n",
    "You should achieve a loss between 0.09 and 0.11."
   ]
  },
  {
   "cell_type": "markdown",
   "metadata": {},
   "source": [
    "### Step 2: Add bias (intercept)\n",
    "\n",
    "Now, add a bias term, so you're fitting the model `y_pred = weights * x + bias`. Use the same data and loss function.\n",
    "\n",
    "Terms:\n",
    "\n",
    "- *bias*: the intercept of the line\n",
    "\n",
    "You should get an MSE of between 0.3 and 0.4."
   ]
  },
  {
   "cell_type": "markdown",
   "metadata": {},
   "source": [
    "### Step 3: Change the loss function\n",
    "\n",
    "Now, minimize the Mean Absolute Error (mean of abs(resid)) instead of the MSE. Use the same model `y_pred = weights * x + bias` and data.\n",
    "\n",
    "You should get an MAE of between 0.6 and 0.7."
   ]
  },
  {
   "cell_type": "markdown",
   "metadata": {},
   "source": [
    "## Step 4: Multiple linear regression\n",
    "\n",
    "Note that the data seems to have different slopes in different parts. Ideally, rather than fitting a single line, we should fit a model where the slopes can change.\n",
    "\n",
    "We can actually do this using linear regression in the same way as we did before. We can think of linear regression as mixing together some functions. In Steps 2 and 3 we mixed together two functions: an \"always going up\" function for x and a flat function, i.e., $f_1(x) = x$ and $f_2(x) = 1.0$.\n",
    "\n",
    "Let's add another function into the mix. The easiest way to describe it is to see it:"
   ]
  },
  {
   "cell_type": "code",
   "execution_count": 44,
   "metadata": {},
   "outputs": [
    {
     "data": {
      "image/png": "[encoded data removed]",
      "text/plain": [
       "<Figure size 432x288 with 1 Axes>"
      ]
     },
     "metadata": {
      "needs_background": "light"
     },
     "output_type": "display_data"
    }
   ],
   "source": [
    "plt.plot(x, f1, label=\"always going up\")\n",
    "plt.plot(x, f2, label=\"hinge at 0.5\")\n",
    "plt.legend();"
   ]
  },
  {
   "cell_type": "markdown",
   "metadata": {},
   "source": [
    "Why might that help us? Well, we can mix them together. Try adjusting the mixing weights to fit the data."
   ]
  },
  {
   "cell_type": "code",
   "execution_count": 63,
   "metadata": {},
   "outputs": [
    {
     "data": {
      "application/vnd.jupyter.widget-view+json": {
       "model_id": "56e57f0c38414f69b729112deb3b4a78",
       "version_major": 2,
       "version_minor": 0
      },
      "text/plain": [
       "interactive(children=(FloatSlider(value=0.0, description='w1', max=2.0, min=-2.0), FloatSlider(value=0.0, desc…"
      ]
     },
     "metadata": {},
     "output_type": "display_data"
    }
   ],
   "source": [
    "r = 2.0\n",
    "@widgets.interact(w1=(-r, r), w2=(-r, r), bias=(-1.0, 1.0))\n",
    "def plot_linreg(w1, w2, bias):\n",
    "    y_pred = w1 * f1 + w2 * f2 + bias\n",
    "    plt.scatter(x, y_true)\n",
    "    plt.plot(x, y_pred, 'r')\n",
    "    resid = y_true - y_pred\n",
    "    mse = resid.pow(2).mean()\n",
    "    mae = resid.abs().mean()\n",
    "    print(f\"MSE: {mse}, MAE: {mae}\")"
   ]
  },
  {
   "cell_type": "markdown",
   "metadata": {},
   "source": [
    "Now, fit the model `y_pred = w1 * f1 + w2 * f2 + bias`. Use MSE loss and the same data.\n",
    "\n",
    "You should get an MSE between 0.01 and 0.02.\n",
    "\n",
    "> There are two ways to do this:\n",
    ">\n",
    "> 1. Make a `tensor` for `w1` and another tensor for `w2`, then use the `y_pred` expression in `plot_linreg`\n",
    "> 2. Add a second item to `weights`, and use `feats @ weights` (look back at Lab 1)... why does this work?"
   ]
  }
 ],
 "metadata": {
  "kernelspec": {
   "display_name": "Python 3 (ipykernel)",
   "language": "python",
   "name": "python3"
  },
  "language_info": {
   "codemirror_mode": {
    "name": "ipython",
    "version": 3
   },
   "file_extension": ".py",
   "mimetype": "text/x-python",
   "name": "python",
   "nbconvert_exporter": "python",
   "pygments_lexer": "ipython3",
   "version": "3.9.7"
  }
 },
 "nbformat": 4,
 "nbformat_minor": 4
}
