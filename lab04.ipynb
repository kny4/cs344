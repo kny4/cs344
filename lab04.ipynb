{
 "cells": [
  {
   "cell_type": "markdown",
   "metadata": {},
   "source": [
    "# Lab04"
   ]
  },
  {
   "cell_type": "markdown",
   "metadata": {},
   "source": [
    "## Setup"
   ]
  },
  {
   "cell_type": "code",
   "execution_count": 20,
   "metadata": {},
   "outputs": [],
   "source": [
    "import torch\n",
    "from torch import tensor\n",
    "import ipywidgets as widgets\n",
    "import matplotlib.pyplot as plt\n",
    "%matplotlib inline\n",
    "from sklearn.metrics import mean_absolute_error"
   ]
  },
  {
   "cell_type": "markdown",
   "metadata": {},
   "source": [
    "## Task"
   ]
  },
  {
   "cell_type": "markdown",
   "metadata": {},
   "source": [
    "Suppose we have a dataset with just a single feature `x` and continuous outcome variable `y`.\n",
    "\n",
    "In general we're going to be faced with a dataset with an unknown and probably nonlinear relationship. But for now let's use a simple dataset with a known linear relationship:"
   ]
  },
  {
   "cell_type": "code",
   "execution_count": 21,
   "metadata": {},
   "outputs": [
    {
     "data": {
      "image/png": "[encoded data removed]",
      "text/plain": [
       "<Figure size 432x288 with 1 Axes>"
      ]
     },
     "metadata": {
      "needs_background": "light"
     },
     "output_type": "display_data"
    }
   ],
   "source": [
    "true_weights = 4.0\n",
    "true_bias = -1.0\n",
    "\n",
    "# Make the randomness consistent\n",
    "torch.manual_seed(0)\n",
    "# Use random x values\n",
    "x = torch.rand(100)\n",
    "# Generate random noise, same shape as *x*, that has some outliers.\n",
    "noise = torch.distributions.studentT.StudentT(2.0).sample(x.shape)\n",
    "# For a simpler variant, use  torch.randn_like(x).\n",
    "#print(f\"Noise mean: {noise.mean()}, noise variance {noise.var()}\")\n",
    "# Generate true y values \n",
    "y_true = true_weights * x + noise + true_bias\n",
    "# Make a scatterplot. The semicolon at the end says to ignore the return value.\n",
    "plt.scatter(x, y_true);"
   ]
  },
  {
   "cell_type": "code",
   "execution_count": 22,
   "metadata": {},
   "outputs": [],
   "source": [
    "bias = 0.0\n",
    "weights = 1.0"
   ]
  },
  {
   "cell_type": "code",
   "execution_count": 24,
   "metadata": {},
   "outputs": [
    {
     "data": {
      "image/png": "[encoded data removed]",
      "text/plain": [
       "<Figure size 432x288 with 1 Axes>"
      ]
     },
     "metadata": {
      "needs_background": "light"
     },
     "output_type": "display_data"
    }
   ],
   "source": [
    "slope = 3.5\n",
    "bias = 0.0\n",
    "y_pred = weights * x + bias\n",
    "plt.scatter(x, y_true); plt.plot(x, y_pred, 'r');"
   ]
  },
  {
   "cell_type": "code",
   "execution_count": 26,
   "metadata": {},
   "outputs": [
    {
     "data": {
      "application/vnd.jupyter.widget-view+json": {
       "model_id": "24fdee76e41e4631b42c09a8af6819e8",
       "version_major": 2,
       "version_minor": 0
      },
      "text/plain": [
       "interactive(children=(FloatSlider(value=0.0, description='slope', max=5.0, min=-5.0), Output()), _dom_classes=…"
      ]
     },
     "metadata": {},
     "output_type": "display_data"
    }
   ],
   "source": [
    "@widgets.interact(slope=(-5.0, 5.0))\n",
    "def plot_linreg(slope):\n",
    "    y_pred = slope * x + bias\n",
    "    plt.scatter(x, y_true); plt.plot(x, y_pred, 'r');\n",
    "    resid = y_true - y_pred\n",
    "    mse = (resid**2).mean()\n",
    "    mae = mean_absolute_error(y_true, y_pred)\n",
    "    print(f\"MSE: {mse}, MAE: {mae}\")"
   ]
  },
  {
   "cell_type": "markdown",
   "metadata": {},
   "source": [
    "- Slope that minimizes MSE: 1.40\n",
    "- Slope that minimizes MAE: 2.40\n",
    "- Description of the difference: The difference of the two slopes for MSE and MAE is one whole point, showing that the MSE is influenced more by the outliers."
   ]
  },
  {
   "cell_type": "markdown",
   "metadata": {},
   "source": [
    "### Gradient\n"
   ]
  },
  {
   "cell_type": "code",
   "execution_count": 52,
   "metadata": {},
   "outputs": [
    {
     "data": {
      "text/plain": [
       "tensor(0.0024)"
      ]
     },
     "execution_count": 52,
     "metadata": {},
     "output_type": "execute_result"
    }
   ],
   "source": [
    "def linreg_mse (slope):\n",
    "    y_pred = slope * x + bias\n",
    "    resid = y_true - y_pred\n",
    "    mse = (resid**2).mean()\n",
    "    return mse\n",
    "\n",
    "eps = 1e-3\n",
    "x0 = 1.4\n",
    "gradient = (linreg_mse(x0 + eps) - linreg_mse(x0)) / eps\n",
    "gradient"
   ]
  },
  {
   "cell_type": "markdown",
   "metadata": {},
   "source": [
    "The numerical gradient gets closer to 0 when the slope given to the function minimizes the MSE. At"
   ]
  },
  {
   "cell_type": "markdown",
   "metadata": {},
   "source": [
    "### Check for Understanding"
   ]
  },
  {
   "cell_type": "markdown",
   "metadata": {},
   "source": [
    "You should now be able to answer the following questions:\n",
    "\n",
    "1. Considering the gradient of the slope parameter with respect to the MSE: if the value of the gradient is positive, which direction do we need to move to get a lower MSE? **If the value fo the gradient is positive, we need to move to the left to get a lower MSE.**\n",
    "2. If the value of the gradient is negative, which direction do we need to move to get a lower MSE? **If the value of the gradient is negative, we need to move to the right to get a lower MSE.**\n",
    "3. What can we say about the gradient when the parameter minimizes the MSE? **As the parameter minimzes the MSE, the gradient gets closer to 0.**\n",
    "4. What would we need to change in order to use gradient descent to minimize the MAE instead? **To use gradient descent to minimize the MAE, we would need to change the direction of movement as answered in 1. and 2.**"
   ]
  },
  {
   "cell_type": "code",
   "execution_count": null,
   "metadata": {},
   "outputs": [],
   "source": []
  }
 ],
 "metadata": {
  "kernelspec": {
   "display_name": "Python 3 (ipykernel)",
   "language": "python",
   "name": "python3"
  },
  "language_info": {
   "codemirror_mode": {
    "name": "ipython",
    "version": 3
   },
   "file_extension": ".py",
   "mimetype": "text/x-python",
   "name": "python",
   "nbconvert_exporter": "python",
   "pygments_lexer": "ipython3",
   "version": "3.9.7"
  }
 },
 "nbformat": 4,
 "nbformat_minor": 4
}
