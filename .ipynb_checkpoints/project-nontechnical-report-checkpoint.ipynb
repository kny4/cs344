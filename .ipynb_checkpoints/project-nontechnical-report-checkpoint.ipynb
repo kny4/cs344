{
 "cells": [
  {
   "cell_type": "markdown",
   "id": "ce5c0e29",
   "metadata": {},
   "source": [
    "# Nontechnical Report\n",
    "by Braden Weber (blw22) and Kelsey Yen (kny4)  \n",
    "\n"
   ]
  },
  {
   "cell_type": "markdown",
   "id": "fe813dd0",
   "metadata": {},
   "source": [
    "The purpose of this project is to create a song recommending system based on an existing playlist of songs. THe inspiration behind this project is the [Spotify Million Playlist Dataset Challenge](https://research.atspotify.com/the-million-playlist-dataset-remastered/). The data comes from sampling random existing Spotify playlists made by real users for Spotify's AI research (much of which focuses on recommendation systems).  "
   ]
  },
  {
   "cell_type": "markdown",
   "id": "45c7a3d3",
   "metadata": {},
   "source": [
    "The recommender uses a simple method based on the names and artists of songs found across multiple playlists in the dataset. Think of it like this: if playlist 1 has songs A, B, C, and C, and playlist 2 has songs A, B, and D, it would be logical that Playlist 2 would be recommended to add song C to its set."
   ]
  }
 ],
 "metadata": {
  "kernelspec": {
   "display_name": "Python 3 (ipykernel)",
   "language": "python",
   "name": "python3"
  },
  "language_info": {
   "codemirror_mode": {
    "name": "ipython",
    "version": 3
   },
   "file_extension": ".py",
   "mimetype": "text/x-python",
   "name": "python",
   "nbconvert_exporter": "python",
   "pygments_lexer": "ipython3",
   "version": "3.9.7"
  }
 },
 "nbformat": 4,
 "nbformat_minor": 5
}
