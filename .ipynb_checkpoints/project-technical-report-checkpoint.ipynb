{
 "cells": [
  {
   "cell_type": "markdown",
   "id": "5660c04c",
   "metadata": {},
   "source": [
    "# DESCRIPTIVE TITLE  \n",
    "by Braden Weber (blw22) and Kelsey Yen (kny4)\n",
    "\n",
    "## Goal  \n",
    "\n",
    "## Dataset  \n",
    "The dataset we used is from the Spotify Million Playlist Dataset Challenge. The data comes from existing Spotify playlists that have been created for AI research and challenges through Spotify For Developers.\n",
    "\n",
    "## Approach\n",
    "Following sequence modelling done in homework 12\n",
    "\n",
    "## Exploring Data\n",
    "givin each song a unique id, \n",
    "\n",
    "## Model Setup\n",
    "Recommender is based on unique songs found in multiple playlists\n",
    "\n",
    "## Validation Method\n",
    "\n",
    "## Baseline Results\n",
    "\n",
    "## Improvements\n",
    "\n",
    "## Error Analysis\n",
    "\n",
    "## Alternative Methods\n",
    "\n",
    "## Conclusion\n",
    "\n",
    "## Future Work\n"
   ]
  },
  {
   "cell_type": "code",
   "execution_count": null,
   "id": "5a1955bd",
   "metadata": {},
   "outputs": [],
   "source": []
  }
 ],
 "metadata": {
  "kernelspec": {
   "display_name": "Python 3 (ipykernel)",
   "language": "python",
   "name": "python3"
  },
  "language_info": {
   "codemirror_mode": {
    "name": "ipython",
    "version": 3
   },
   "file_extension": ".py",
   "mimetype": "text/x-python",
   "name": "python",
   "nbconvert_exporter": "python",
   "pygments_lexer": "ipython3",
   "version": "3.9.7"
  }
 },
 "nbformat": 4,
 "nbformat_minor": 5
}
